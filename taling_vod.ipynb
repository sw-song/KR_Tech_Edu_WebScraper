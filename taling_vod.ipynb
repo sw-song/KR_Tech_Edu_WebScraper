{
 "cells": [
  {
   "cell_type": "code",
   "execution_count": 1,
   "metadata": {},
   "outputs": [],
   "source": [
    "from selenium import webdriver\n",
    "chromedriver = '../sw_jupyter/chromedriver'\n",
    "# selenum의 webdriver에 앞서 설치한 chromedirver를 연동한다.\n",
    "driver = webdriver.Chrome(chromedriver)\n",
    "# driver로 특정 페이지를 크롤링한다.\n",
    "driver.get('https://taling.me/vod/list')"
   ]
  },
  {
   "cell_type": "code",
   "execution_count": 20,
   "metadata": {},
   "outputs": [],
   "source": [
    "from selenium.webdriver.common.by import By\n",
    "from selenium.webdriver.support.ui import WebDriverWait\n",
    "from selenium.webdriver.support import expected_conditions as EC"
   ]
  },
  {
   "cell_type": "code",
   "execution_count": 29,
   "metadata": {},
   "outputs": [],
   "source": [
    "import time"
   ]
  },
  {
   "cell_type": "code",
   "execution_count": 91,
   "metadata": {},
   "outputs": [],
   "source": [
    "driver = webdriver.Chrome(chromedriver)\n",
    "driver.get('https://taling.me/vod/list')\n",
    "go_depth=driver.find_elements_by_css_selector('.btn_all')"
   ]
  },
  {
   "cell_type": "code",
   "execution_count": 95,
   "metadata": {},
   "outputs": [
    {
     "data": {
      "text/plain": [
       "11"
      ]
     },
     "execution_count": 95,
     "metadata": {},
     "output_type": "execute_result"
    }
   ],
   "source": [
    "len(go_depth)"
   ]
  },
  {
   "cell_type": "code",
   "execution_count": 107,
   "metadata": {},
   "outputs": [],
   "source": [
    "driver = webdriver.Chrome(chromedriver)"
   ]
  },
  {
   "cell_type": "code",
   "execution_count": 109,
   "metadata": {},
   "outputs": [],
   "source": [
    "links = []\n",
    "cates = []\n",
    "lectors = []\n",
    "titles = []\n",
    "likes = []\n",
    "chromedriver = '../sw_jupyter/chromedriver'\n",
    "# selenum의 webdriver에 앞서 설치한 chromedirver를 연동한다.\n",
    "driver = webdriver.Chrome(chromedriver)\n",
    "for i in range(11):\n",
    "    driver.get('https://taling.me/vod/list')\n",
    "    time.sleep(1.5)\n",
    "    go_depth=driver.find_elements_by_css_selector('.btn_all')\n",
    "    go_depth[i].click()\n",
    "    time.sleep(1.5)\n",
    "    info_all = driver.find_elements_by_css_selector('#sub-cont > .vod_list > li > a')\n",
    "    for info in info_all:\n",
    "        links.append(info.get_attribute('href'))\n",
    "        cates.append(info.text.split('\\n')[0])\n",
    "        lectors.append(info.text.split('\\n')[1])\n",
    "        titles.append(info.text.split('\\n')[2])\n",
    "        likes.append(info.text.split('\\n')[-1])\n"
   ]
  },
  {
   "cell_type": "code",
   "execution_count": 111,
   "metadata": {},
   "outputs": [
    {
     "data": {
      "text/plain": [
       "(69, 69, 69, 69, 69)"
      ]
     },
     "execution_count": 111,
     "metadata": {},
     "output_type": "execute_result"
    }
   ],
   "source": [
    "# 추출한 각 데이터 리스트 길이가 일치하는지 확인합니다.\n",
    "len(links), len(cates), len(lectors), len(titles), len(likes)"
   ]
  },
  {
   "cell_type": "code",
   "execution_count": 115,
   "metadata": {},
   "outputs": [],
   "source": [
    "import pandas as pd"
   ]
  },
  {
   "cell_type": "code",
   "execution_count": 116,
   "metadata": {},
   "outputs": [],
   "source": [
    "# 리스트 합치기 => 데이터프레임\n",
    "df = pd.DataFrame({'분류':cates,'강사':lectors,'강의명':titles,'찜하기':likes,'링크':links})"
   ]
  },
  {
   "cell_type": "code",
   "execution_count": 119,
   "metadata": {},
   "outputs": [],
   "source": [
    "df.to_csv('./data/taling_vod_all.csv')"
   ]
  }
 ],
 "metadata": {
  "kernelspec": {
   "display_name": "Python 3",
   "language": "python",
   "name": "python3"
  },
  "language_info": {
   "codemirror_mode": {
    "name": "ipython",
    "version": 3
   },
   "file_extension": ".py",
   "mimetype": "text/x-python",
   "name": "python",
   "nbconvert_exporter": "python",
   "pygments_lexer": "ipython3",
   "version": "3.7.7"
  }
 },
 "nbformat": 4,
 "nbformat_minor": 4
}
