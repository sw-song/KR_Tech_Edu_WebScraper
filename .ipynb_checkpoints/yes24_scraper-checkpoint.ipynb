{
 "cells": [
  {
   "cell_type": "code",
   "execution_count": null,
   "metadata": {},
   "outputs": [],
   "source": [
    "import pandas as pd\n",
    "from bs4 import BeautifulSoup\n",
    "import requests"
   ]
  },
  {
   "cell_type": "code",
   "execution_count": null,
   "metadata": {},
   "outputs": [],
   "source": [
    "links = []\n",
    "for i in range(1,21):\n",
    "    res = requests.get('http://www.yes24.com/searchcorner/Search?keywordAd=&keyword=&domain=ALL&qdomain=%C0%FC%C3%BC&query=%B8%B6%C4%C9%C6%C3&PageNumber={}&scode=012'.format(i))\n",
    "    html = res.text\n",
    "    soup = BeautifulSoup(html, 'lxml')\n",
    "    temp_links = soup.select('table > tr > td.goods_infogrp p.goods_name.goods_icon > a:nth-of-type(1)')\n",
    "    links.append([home_link + x['href'] for x in temp_links if 'Product' in x['href']])\n",
    "    print('진행률 = {} / 21'.format(i))\n",
    "    "
   ]
  },
  {
   "cell_type": "code",
   "execution_count": null,
   "metadata": {},
   "outputs": [],
   "source": [
    "titles = []\n",
    "dates = []\n",
    "prices = []\n",
    "scores = []\n",
    "categories = []\n",
    "sub_categories = []\n",
    "\n"
   ]
  },
  {
   "cell_type": "code",
   "execution_count": null,
   "metadata": {},
   "outputs": [],
   "source": [
    "count = 0\n",
    "for i in links:\n",
    "    #진행상황 체크\n",
    "    count += 1\n",
    "    \n",
    "    res = requests.get(i)\n",
    "    html = res.text\n",
    "    soup = BeautifulSoup(html, 'lxml')\n",
    "\n",
    "    #카테고리\n",
    "    temp = soup.select('#infoset_goodsCate a')\n",
    "    if len(temp) >= 4:\n",
    "        categories.append(temp[2].text)\n",
    "        sub_categories.append(temp[3].text)\n",
    "    elif len(temp) >= 3:\n",
    "        categories.append(temp[2].text)\n",
    "        sub_categories.append('일반')\n",
    "    elif len(temp) >= 2:\n",
    "        categories.append('일반')\n",
    "        sub_categories.append('일반')\n",
    "    #카테고리가 없는 경우(IT 모바일 표기를 찾을 수 없음), 불필요한 페이지로 판단, 다음 링크로 이동 \n",
    "    else:\n",
    "        continue\n",
    "\n",
    "    #도서명(진행상황체크용)\n",
    "    title = soup.select_one('.gd_titArea > .gd_name').text\n",
    "\n",
    "    #도서정보\n",
    "    titles.append(soup.select_one('.gd_titArea > .gd_name').text)\n",
    "    dates.append(soup.select_one('.gd_date').text)\n",
    "    if soup.select_one('span.gd_sellNum > em.divi') != None:\n",
    "        scores.append(soup.select_one('span.gd_sellNum > em.divi').next_sibling.split()[1])\n",
    "    else:\n",
    "        scores.append(0)\n",
    "    prices.append(soup.select_one('.nor_price > .yes_m').text)\n",
    "\n",
    "    print('데이터를 저장하고 있습니다. (도서명 : {} | 진행률 : {}/{})'.format(title,count,len(links)))\n",
    "\n",
    "\n"
   ]
  },
  {
   "cell_type": "code",
   "execution_count": null,
   "metadata": {},
   "outputs": [],
   "source": [
    "#데이터프레임으로 변환\n",
    "df = pd.DataFrame({'중분류':categories,'소분류':sub_categories,'도서명':titles,'출판일':dates,\\\n",
    "              '판매지수':scores,'가격':prices})"
   ]
  },
  {
   "cell_type": "code",
   "execution_count": null,
   "metadata": {},
   "outputs": [],
   "source": [
    "set_with_dataframe(worksheet,df)"
   ]
  },
  {
   "cell_type": "code",
   "execution_count": null,
   "metadata": {},
   "outputs": [],
   "source": [
    "df.to_csv('./yes24_Marketing_List.csv')"
   ]
  },
  {
   "cell_type": "code",
   "execution_count": null,
   "metadata": {},
   "outputs": [],
   "source": [
    "df.rename(columns={'중분류':'대분류'}, inplace=True)"
   ]
  },
  {
   "cell_type": "code",
   "execution_count": null,
   "metadata": {},
   "outputs": [],
   "source": [
    "df = df[['대분류','중분류','소분류','도서명','출판일','판매지수','가격']]"
   ]
  },
  {
   "cell_type": "code",
   "execution_count": null,
   "metadata": {},
   "outputs": [],
   "source": [
    "df.to_csv('./yes24_IT_List_new.csv')"
   ]
  },
  {
   "cell_type": "code",
   "execution_count": null,
   "metadata": {},
   "outputs": [],
   "source": [
    "\n",
    "df = pd.read_csv('./yes24_IT_List_new.csv')"
   ]
  },
  {
   "cell_type": "code",
   "execution_count": null,
   "metadata": {},
   "outputs": [],
   "source": [
    "set(df['대분류'])"
   ]
  },
  {
   "cell_type": "code",
   "execution_count": null,
   "metadata": {},
   "outputs": [],
   "source": [
    "df['판매지수'] = df['판매지수'].apply(lambda x : int(x.replace(',','')))\n",
    "df['가격'] = df['가격'].apply(lambda x : int(x.replace(',','')))\n",
    "df['판매지수'] = df['판매지수'].apply(lambda x : 1 if x == 0 else x)"
   ]
  },
  {
   "cell_type": "code",
   "execution_count": null,
   "metadata": {},
   "outputs": [],
   "source": [
    "sample = []\n",
    "df['판매지수*가격'] = df.apply(lambda x : x['판매지수'] * x['가격'], axis='columns')"
   ]
  },
  {
   "cell_type": "code",
   "execution_count": null,
   "metadata": {},
   "outputs": [],
   "source": [
    "df['출판시장규모'] = df.apply(lambda x : int(x['판매지수*가격']*0.14), axis='columns')"
   ]
  }
 ],
 "metadata": {
  "kernelspec": {
   "display_name": "Python 3",
   "language": "python",
   "name": "python3"
  },
  "language_info": {
   "codemirror_mode": {
    "name": "ipython",
    "version": 3
   },
   "file_extension": ".py",
   "mimetype": "text/x-python",
   "name": "python",
   "nbconvert_exporter": "python",
   "pygments_lexer": "ipython3",
   "version": "3.7.7"
  }
 },
 "nbformat": 4,
 "nbformat_minor": 4
}
