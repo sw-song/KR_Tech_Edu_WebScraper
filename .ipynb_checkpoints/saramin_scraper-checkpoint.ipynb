{
 "cells": [
  {
   "cell_type": "code",
   "execution_count": 1,
   "metadata": {},
   "outputs": [],
   "source": [
    "import pandas as pd\n",
    "import requests"
   ]
  },
  {
   "cell_type": "code",
   "execution_count": 2,
   "metadata": {},
   "outputs": [],
   "source": [
    "from bs4 import BeautifulSoup\n"
   ]
  },
  {
   "cell_type": "code",
   "execution_count": 4,
   "metadata": {},
   "outputs": [],
   "source": [
    "res = requests.get('http://www.saramin.co.kr/zf_user/search/recruit?searchType=search&searchword=콘텐츠마케터&company_cd=0%2C1%2C2%2C3%2C4%2C5%2C6%2C7%2C9%2C10&panel_type=&search_optional_item=y&search_done=y&panel_count=y&recruitPage=6&recruitSort=relation&recruitPageCount=40&inner_com_type=&quick_apply=&except_read=')"
   ]
  },
  {
   "cell_type": "code",
   "execution_count": 5,
   "metadata": {},
   "outputs": [],
   "source": [
    "html= res.text"
   ]
  },
  {
   "cell_type": "code",
   "execution_count": 6,
   "metadata": {},
   "outputs": [],
   "source": [
    "soup = BeautifulSoup(html, 'lxml')"
   ]
  },
  {
   "cell_type": "code",
   "execution_count": 24,
   "metadata": {},
   "outputs": [],
   "source": [
    "test = soup.select('.job_tit')"
   ]
  },
  {
   "cell_type": "code",
   "execution_count": 30,
   "metadata": {},
   "outputs": [
    {
     "data": {
      "text/plain": [
       "'콘텐츠 크리에이터(마케팅) 경력직 모집'"
      ]
     },
     "execution_count": 30,
     "metadata": {},
     "output_type": "execute_result"
    }
   ],
   "source": [
    "test[2].text.strip()"
   ]
  },
  {
   "cell_type": "code",
   "execution_count": 32,
   "metadata": {},
   "outputs": [
    {
     "name": "stdout",
     "output_type": "stream",
     "text": [
      "강남소재 마케팅 대행사 뷰티콘텐츠 디자이너\n",
      "[네이버자회사]콘텐츠마케팅 리드(팀장급)\n",
      "콘텐츠 크리에이터(마케팅) 경력직 모집\n",
      "BCG 마케팅팀 SNS콘텐츠 관리 및 블로그 원고 작성\n",
      "마케팅 콘텐츠 매니저 모집 (브랜드 SNS 유경험자 우대)\n",
      "[도빗] 콘텐츠 마케팅, 커뮤니케이션 담당 AE 모집\n",
      "더함TV 컨텐츠/바이럴 마케팅\n",
      "온라인 컨텐츠,퍼포먼스 마케팅 [서울형 강소기업 청년인턴제]\n",
      "디지털콘텐츠팀 마케팅·광고기획 파트장급 & 대리 경력직 채용\n",
      "(주)바이올프드 컨텐츠기획&제작/마케팅&기획홍보 정규직(경력)\n",
      "당사의 포스트 및 블로그 컨텐츠를 제작할 마케터를 모집합니다.\n",
      "디지털 퍼포먼스 마케팅 및 컨텐츠 기획 채용공고\n",
      "SNS마케팅/컨텐츠기획/상품기획 모십니다.\n",
      "바이럴 마케팅 컨텐츠 제작 및 운영 관리\n",
      "SaaS 기반 B2B 소프트웨어 서비스 컨텐츠 마케팅\n",
      "에스엘알렌트 컨텐츠 마케팅 정직원 채용\n",
      "[브이디코랩] 필캣 바이럴마케팅 SNS운영/관리/콘텐츠제작\n",
      "Marketing Content Design Lead\n",
      "[라라스윗]컨텐츠 마케팅\n",
      "[한국무역협회] Kmall24 콘텐츠 마케팅 담당\n",
      "- [성수동] 컨텐츠마케팅 채용공고\n",
      "유튜브 미디어 콘텐츠 PD (마케팅, 브랜딩) - 인재선발\n",
      "디자인&마케팅 콘텐츠기획外 계약직 채용(경력무관)\n",
      "컨텐츠 기획&마케팅 담당 직원 채용\n",
      "국내 온라인 신선식품 컨텐츠마케팅 팀장급\n",
      "KPOP 어플] 콘텐츠 기획, 마케팅팀 정규직 모집 공고\n",
      "온라인 마케팅 웹디자이너 컨텐츠제작 신입 경력 무관\n",
      "컨텐츠/데이터 마케팅 팀장(경력)\n",
      "영어체육 온라인 교육 컨텐츠 제작/마케팅관리, 강사파견팀 보조\n",
      "컨텐츠기획/마케팅홍보/웹디자이너/MD 신입 경력자 모집\n",
      "법률사무소 온라인마케팅, 컨텐츠 제작 관리 등 담당자 모집 공\n",
      "광고마케팅 컨텐츠기획 온라인쇼핑몰 MD 상품관리운영\n",
      "온라인마케팅 / 바이럴마케팅 홍보컨텐츠 작성 및 관리 직원구인\n",
      "온라인마케팅,사이트관리,컨텐츠제작 외 정규직,신입채용\n",
      "온라인 마케팅(콘텐츠 기획, 생산, 관리) 정규직 채용(경력무관)\n",
      "웹사이트/컨텐츠 기획 및 마케팅 경력자 채용\n",
      "마케팅디자인 웹디자인 광고 컨텐츠 기획 운영 관리\n",
      "온라인 마케팅(콘텐츠 기획, 생산, 관리) 정규직 모집\n",
      "온라인마케팅/바이럴마케팅/SNS관리/컨텐츠기획/경력무관\n",
      "마케팅 컨텐츠 / 웹디자인 디자이너 모집 (일 4시간 근무)\n"
     ]
    }
   ],
   "source": [
    "for i in test:\n",
    "        print(i.text.strip())"
   ]
  },
  {
   "cell_type": "code",
   "execution_count": null,
   "metadata": {},
   "outputs": [],
   "source": []
  }
 ],
 "metadata": {
  "kernelspec": {
   "display_name": "Python 3",
   "language": "python",
   "name": "python3"
  },
  "language_info": {
   "codemirror_mode": {
    "name": "ipython",
    "version": 3
   },
   "file_extension": ".py",
   "mimetype": "text/x-python",
   "name": "python",
   "nbconvert_exporter": "python",
   "pygments_lexer": "ipython3",
   "version": "3.7.7"
  }
 },
 "nbformat": 4,
 "nbformat_minor": 4
}
