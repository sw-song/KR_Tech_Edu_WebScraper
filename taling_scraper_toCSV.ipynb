{
 "cells": [
  {
   "cell_type": "code",
   "execution_count": 1,
   "metadata": {},
   "outputs": [],
   "source": [
    "import pandas as pd\n",
    "from bs4 import BeautifulSoup\n",
    "import requests"
   ]
  },
  {
   "cell_type": "code",
   "execution_count": null,
   "metadata": {},
   "outputs": [],
   "source": [
    "links = []\n",
    "count = 0\n",
    "main_link = 'https://taling.me/Home/Search/'\n",
    "query = '?page={}&cateMain={}'"
   ]
  },
  {
   "cell_type": "code",
   "execution_count": 2,
   "metadata": {},
   "outputs": [],
   "source": [
    "class TalingScraper():\n",
    "    def __init__(self, key, courses):\n",
    "        self.key = key\n",
    "        self.pages = (int(courses)//15)+1\n",
    "        self.main_link = 'https://taling.me/Home/Search/'\n",
    "        self.query = '?page={}&cateSub={}'\n",
    "        \n",
    "    def scrap_info(self):\n",
    "        key = self.key\n",
    "        pages = self.pages\n",
    "        main_link = self.main_link\n",
    "        query = self.query\n",
    "        titles = []\n",
    "        enrolls = []\n",
    "        links = []\n",
    "        for i in range(1, pages+1):\n",
    "            res = requests.get((main_link + query).format(i,key))\n",
    "            html = res.text\n",
    "            soup = BeautifulSoup(html,'lxml')\n",
    "            temp = soup.select('.cont2_box .cont2_class')\n",
    "            titles.append([title.select_one('div.title').text.strip() for title in temp])\n",
    "            links.append([main_link+link.a['href'] for link in temp])\n",
    "            enrolls.append([enroll.select_one('div.d_day').text.strip()[:-4] \\\n",
    "                            if '참여' in enroll.select_one('div.d_day').text else 0\\\n",
    "                            for enroll in temp\n",
    "                           ])\n",
    "            print('진행률 = {} / {}'.format(i, pages))\n",
    "        titles = sum(titles, [])\n",
    "        links = sum(links, [])\n",
    "        enrolls = sum(enrolls, [])\n",
    "        print('링크 수집이 완료되었습니다.')\n",
    "        return titles, enrolls, links\n",
    "\n",
    "    def scrap_price(self, titles,links):\n",
    "        links = links\n",
    "        titles = titles\n",
    "        count = 0\n",
    "        prices_perH = []\n",
    "        prices = []\n",
    "        print('도서 수집을 시작합니다.')\n",
    "        for link in links:\n",
    "            count += 1\n",
    "            res = requests.get(link)\n",
    "            html = res.content\n",
    "            soup = BeautifulSoup(html,'lxml')\n",
    "                \n",
    "            prices_perH.append(soup.select_one('p.price_info > span.per').text[:-6])\n",
    "            prices.append(soup.select_one('p.price_info > span.total > b').text[:-3])\n",
    "            print(\"클레스명 : {} | 진행률 : {}/{}\".format(titles[count-1], count, len(links)))\n",
    "        print('클레스 가격 정보 수집이 완료되었습니다.')\n",
    "        return prices_perH,prices\n",
    "\n",
    "    def make_df(self, name, links, titles, enrolls, prices, prices_perH):\n",
    "        df = pd.DataFrame({'링크': links, '강좌명': titles, '등록수': enrolls, '가격': prices,\\\n",
    "                           '시간당 단가': prices_perH})\n",
    "        df.to_csv('./{}.csv'.format(name))\n",
    "        print('도서 리스트를 csv파일로 저장하였습니다. 저장 경로는 현재 실행 위치입니다.')\n",
    "        return df\n"
   ]
  },
  {
   "cell_type": "code",
   "execution_count": 6,
   "metadata": {},
   "outputs": [],
   "source": [
    "Scraper = TalingScraper(11, 52)"
   ]
  },
  {
   "cell_type": "code",
   "execution_count": 7,
   "metadata": {},
   "outputs": [
    {
     "name": "stdout",
     "output_type": "stream",
     "text": [
      "진행률 = 1 / 4\n",
      "진행률 = 2 / 4\n",
      "진행률 = 3 / 4\n",
      "진행률 = 4 / 4\n",
      "링크 수집이 완료되었습니다.\n"
     ]
    }
   ],
   "source": [
    "titles, enrolls, links = Scraper.scrap_info()\n"
   ]
  },
  {
   "cell_type": "code",
   "execution_count": 8,
   "metadata": {},
   "outputs": [
    {
     "data": {
      "text/plain": [
       "52"
      ]
     },
     "execution_count": 8,
     "metadata": {},
     "output_type": "execute_result"
    }
   ],
   "source": [
    "len(titles)"
   ]
  },
  {
   "cell_type": "code",
   "execution_count": 106,
   "metadata": {},
   "outputs": [
    {
     "data": {
      "text/plain": [
       "46"
      ]
     },
     "execution_count": 106,
     "metadata": {},
     "output_type": "execute_result"
    }
   ],
   "source": [
    "len(links)"
   ]
  },
  {
   "cell_type": "code",
   "execution_count": 107,
   "metadata": {},
   "outputs": [
    {
     "data": {
      "text/plain": [
       "46"
      ]
     },
     "execution_count": 107,
     "metadata": {},
     "output_type": "execute_result"
    }
   ],
   "source": [
    "len(enrolls)"
   ]
  },
  {
   "cell_type": "code",
   "execution_count": 9,
   "metadata": {},
   "outputs": [
    {
     "name": "stdout",
     "output_type": "stream",
     "text": [
      "도서 수집을 시작합니다.\n",
      "클레스명 : [SQL] 쉽게 배우는 실무 데이터분석! 기초부터 현업사례까지! | 진행률 : 1/52\n",
      "클레스명 : [Tableau] 4주면 데이터 시각화 전문가! 태블로 클래스 | 진행률 : 2/52\n",
      "클레스명 : 인공지능 주식투자시스템(강화학습기반) 10/31(토) 오후 2시 개강 | 진행률 : 3/52\n",
      "클레스명 : [10/11월반] 정규반 모집중! R 입문자 데이터 분석]  단계적으로 배우는 R 패키지! | 진행률 : 4/52\n",
      "클레스명 : 10월/11월 원데이 모집 중] 비전공자도 즉시 써먹는 데이터분석 & 시각화 실습! 'R | 진행률 : 5/52\n",
      "클레스명 : [파워비아이공방/기초반]일반 Excel유저를 위한 Power BI 강의 (by 현직컨설턴트 | 진행률 : 6/52\n",
      "클레스명 : 인공지능 개발을 위한 파이썬 고성능 컴퓨팅-10/29(목) 오후 7시 | 진행률 : 7/52\n",
      "클레스명 : AI in Wallstreet: 인공지능을 이용한 주가예측 10/30(금) 저녁7시 개강 | 진행률 : 8/52\n",
      "클레스명 : [원데이♥]고객 심리를 자극하는 마케팅 & 세일즈 기법! 2020 소비자 트렌드와 함께 배워요! | 진행률 : 9/52\n",
      "클레스명 : 아동관련(유아교육, 아동, 보육) 논문 통계 SPSS | 진행률 : 10/52\n",
      "클레스명 : [SQL / Tableau / Power BI] 현업에 필요한 데이터 분석 Skill | 진행률 : 11/52\n",
      "클레스명 : ♥[1:1]보이스/스피치 4주완성♥면접대비/업무발표/아나운서양성, 한영아나운서 실전노하우200%공유 | 진행률 : 12/52\n",
      "클레스명 : [비전공자를 위한 데이터분석 특강] 실제 데이터를 가지고 진행하는 이론과 실습 ( 4주 커리큘럼 ) | 진행률 : 13/52\n",
      "클레스명 : [수업 개편!] 입.문.즉.시. 데이터 분석 레퍼런스 쌓기 #캐글 대회 | 진행률 : 14/52\n",
      "클레스명 : 머신러닝(데이터분석)/딥러닝 입문 | 진행률 : 15/52\n",
      "클레스명 : [합격 사업계획서 작성법] 대출X 갚지 않는 정부지원금 받는 정부지원사업으로 리스크 없이 사업하자! 예비창업자 창업자 자영업자 가능 | 진행률 : 16/52\n",
      "클레스명 : [금융x파이썬] 주식투자전략&백테스트를 기초 코딩으로 구현해 투자하자! | 진행률 : 17/52\n",
      "클레스명 : 딥러닝을 이용한 자연어처리 | 진행률 : 18/52\n",
      "클레스명 : [R중급] 심리/교육 통계 프로젝트가 막힌다면?! | 진행률 : 19/52\n",
      "클레스명 : 사회과학 응급 통계 분석/연구설계 코칭 LIVE | 진행률 : 20/52\n",
      "클레스명 : [인공지능 알고리즘 개발자에게 배우는 C언어 초보 탈출] | 진행률 : 21/52\n",
      "클레스명 : 데이터 분석을 하기 전에 통계학부터 알고가자! | 진행률 : 22/52\n",
      "클레스명 : 전공자가 진행하는 통계과외 | 진행률 : 23/52\n",
      "클레스명 : 심리통계 개인과외, 심리학과 대학원 입시(학업계획서, 논문리딩) | 진행률 : 24/52\n",
      "클레스명 : [4주 완성] 문과생도 할 수 있다! 쉽게 배우는 머신러닝/데이터 사이언스 | 진행률 : 25/52\n",
      "클레스명 : [SPSS/SAS] SPSS와 SAS를 이용한 기초/고급 통계 분석 (논문 통계) | 진행률 : 26/52\n",
      "클레스명 : (데이터공방) 이제는 엑셀말고 파이썬으로, \"파이썬 데이터 분석&시각화 하기\" | 진행률 : 27/52\n",
      "클레스명 : 기초부터 배우는 R 프로그래밍 | 진행률 : 28/52\n",
      "클레스명 : [R코딩/R Studio] R로 배우는 데이터분석! 나도 코딩 전문가! | 진행률 : 29/52\n",
      "클레스명 : [SQL] 누구의 도움 없이 혼.자.서. 데이터 실컷 뽑자! | 진행률 : 30/52\n",
      "클레스명 : [R studio] 데이터사이언스, 시작은 통계 분석부터! | 진행률 : 31/52\n",
      "클레스명 : [9월 반 모집중][現데이터분석가]문과를 위한 데이터 분석 | 진행률 : 32/52\n",
      "클레스명 : [창업/스타트업] 3년차 젊은 창업자가 알려드리는 '생각을 매출로 만드는 공식!' 모든 잘되는 사업들이 해왔던 공통, 기본 사업공식을 알려드려요! | 진행률 : 33/52\n",
      "클레스명 : 이미지와 텍스트 추출 및 DB 관리를 위한 웹크롤링 및 분석 실무 | 진행률 : 34/52\n",
      "클레스명 : 대용량 데이터 활용을 위한 파이프 라인 및 데이터 구조 설계 | 진행률 : 35/52\n",
      "클레스명 : R데이터 분석/시각화 원데이 클래스! | 진행률 : 36/52\n",
      "클레스명 : MATLAB으로 배우는 통계, 베이즈 통계 (기계학습 이론) | 진행률 : 37/52\n",
      "클레스명 : [3회완성][데이터분석/딥러닝] 우버 출신 연구원과 함께하는 데이터분석과 딥러닝 | 진행률 : 38/52\n",
      "클레스명 : 실무 개발자에게 배우는 파이썬과 머신러닝 기초 (AI/인공지능/딥러닝/프로그래밍/데이터분석) | 진행률 : 39/52\n",
      "클레스명 : DataScience부터 최신 AI 트렌드 정리 | 진행률 : 40/52\n",
      "클레스명 : DataScience부터 최신 AI 트렌드 정리 | 진행률 : 41/52\n",
      "클레스명 : 데이터 추출 요청은 그만, 3시간 만에 활용하는 SQL | 진행률 : 42/52\n",
      "클레스명 : [1:1 수업] 파이썬을 활용한 엑셀 업무 자동화 #반복업무 싫어요 #정시퇴근할래요 | 진행률 : 43/52\n",
      "클레스명 : 머신러닝을 위한 기초 수학 1달 속성코스(수포자 환영) | 진행률 : 44/52\n",
      "클레스명 : [Tableau] 오늘 배워서 내일 실무에 적용하는 태블로! | 진행률 : 45/52\n",
      "클레스명 : 중요한건 '통계학적 사고'다 | 진행률 : 46/52\n",
      "클레스명 : 데이터 분석 & 시각화 ( with R ) | 진행률 : 47/52\n",
      "클레스명 : 기본부터 실무까지 구글애널리틱스(GA) 1Day 완벽정복 | 진행률 : 48/52\n",
      "클레스명 : [R/데이터/실무] 입사 전에 배우는 가장 실전적인 R : 데이터 처리 및 분석 / 엑셀과의 작별... | 진행률 : 49/52\n",
      "클레스명 : S그룹인재원 주관 핵심인재 대상 4년 연속 진행된 [데이터 사고력 & 스토리텔링] 원데이 강의 | 진행률 : 50/52\n",
      "클레스명 : [원데이] 빅데이터를 활용한 시뮬레이션 모델링 | 진행률 : 51/52\n",
      "클레스명 : 기초통계 이론과 함께하는 R 데이터 분석(시각화, 전처리) | 진행률 : 52/52\n",
      "클레스 가격 정보 수집이 완료되었습니다.\n"
     ]
    }
   ],
   "source": [
    "prices_perH,prices =Scraper.scrap_price(titles,links)"
   ]
  },
  {
   "cell_type": "code",
   "execution_count": 10,
   "metadata": {},
   "outputs": [
    {
     "name": "stdout",
     "output_type": "stream",
     "text": [
      "도서 리스트를 csv파일로 저장하였습니다. 저장 경로는 현재 실행 위치입니다.\n"
     ]
    }
   ],
   "source": [
    "df = Scraper.make_df('DataScience', links, titles, enrolls, prices, prices_perH)"
   ]
  },
  {
   "cell_type": "code",
   "execution_count": 122,
   "metadata": {},
   "outputs": [
    {
     "data": {
      "text/html": [
       "<div>\n",
       "<style scoped>\n",
       "    .dataframe tbody tr th:only-of-type {\n",
       "        vertical-align: middle;\n",
       "    }\n",
       "\n",
       "    .dataframe tbody tr th {\n",
       "        vertical-align: top;\n",
       "    }\n",
       "\n",
       "    .dataframe thead th {\n",
       "        text-align: right;\n",
       "    }\n",
       "</style>\n",
       "<table border=\"1\" class=\"dataframe\">\n",
       "  <thead>\n",
       "    <tr style=\"text-align: right;\">\n",
       "      <th></th>\n",
       "      <th>링크</th>\n",
       "      <th>강좌명</th>\n",
       "      <th>등록수</th>\n",
       "      <th>가격</th>\n",
       "      <th>시간당 단가</th>\n",
       "    </tr>\n",
       "  </thead>\n",
       "  <tbody>\n",
       "    <tr>\n",
       "      <th>16</th>\n",
       "      <td>https://taling.me/Home/Search//Talent/Detail/9208</td>\n",
       "      <td>자바/안드로이드/웹 프로젝트,이론,실습 맞춤형 수업</td>\n",
       "      <td>38</td>\n",
       "      <td>240,000</td>\n",
       "      <td>30,000</td>\n",
       "    </tr>\n",
       "    <tr>\n",
       "      <th>17</th>\n",
       "      <td>https://taling.me/Home/Search//Talent/Detail/2...</td>\n",
       "      <td>앱 개발을 위한 자바, 안드로이드, 데이터베이스, 네트워크 전반적인 지식 강의 해드...</td>\n",
       "      <td>16</td>\n",
       "      <td>480,000</td>\n",
       "      <td>40,000</td>\n",
       "    </tr>\n",
       "  </tbody>\n",
       "</table>\n",
       "</div>"
      ],
      "text/plain": [
       "                                                   링크  \\\n",
       "16  https://taling.me/Home/Search//Talent/Detail/9208   \n",
       "17  https://taling.me/Home/Search//Talent/Detail/2...   \n",
       "\n",
       "                                                  강좌명 등록수       가격  시간당 단가  \n",
       "16                       자바/안드로이드/웹 프로젝트,이론,실습 맞춤형 수업  38  240,000  30,000  \n",
       "17  앱 개발을 위한 자바, 안드로이드, 데이터베이스, 네트워크 전반적인 지식 강의 해드...  16  480,000  40,000  "
      ]
     },
     "execution_count": 122,
     "metadata": {},
     "output_type": "execute_result"
    }
   ],
   "source": [
    "df[df['강좌명'].str.contains('자바')]"
   ]
  },
  {
   "cell_type": "code",
   "execution_count": 123,
   "metadata": {},
   "outputs": [
    {
     "data": {
      "text/html": [
       "<div>\n",
       "<style scoped>\n",
       "    .dataframe tbody tr th:only-of-type {\n",
       "        vertical-align: middle;\n",
       "    }\n",
       "\n",
       "    .dataframe tbody tr th {\n",
       "        vertical-align: top;\n",
       "    }\n",
       "\n",
       "    .dataframe thead th {\n",
       "        text-align: right;\n",
       "    }\n",
       "</style>\n",
       "<table border=\"1\" class=\"dataframe\">\n",
       "  <thead>\n",
       "    <tr style=\"text-align: right;\">\n",
       "      <th></th>\n",
       "      <th>링크</th>\n",
       "      <th>강좌명</th>\n",
       "      <th>등록수</th>\n",
       "      <th>가격</th>\n",
       "      <th>시간당 단가</th>\n",
       "    </tr>\n",
       "  </thead>\n",
       "  <tbody>\n",
       "    <tr>\n",
       "      <th>11</th>\n",
       "      <td>https://taling.me/Home/Search//Talent/Detail/2...</td>\n",
       "      <td>Java/Kotlin 언어로 Android 앱 개발자 되기!</td>\n",
       "      <td>28</td>\n",
       "      <td>240,000</td>\n",
       "      <td>20,000</td>\n",
       "    </tr>\n",
       "    <tr>\n",
       "      <th>18</th>\n",
       "      <td>https://taling.me/Home/Search//Talent/Detail/3238</td>\n",
       "      <td>진짜에게 배워봐!(티몬 개발자) 안드로이드, ios 어플리케이션 개발 [Java, ...</td>\n",
       "      <td>225</td>\n",
       "      <td>240,000</td>\n",
       "      <td>30,000</td>\n",
       "    </tr>\n",
       "    <tr>\n",
       "      <th>26</th>\n",
       "      <td>https://taling.me/Home/Search//Talent/Detail/8296</td>\n",
       "      <td>[4월반 모집] 2주완성 Java 프로그래밍</td>\n",
       "      <td>5</td>\n",
       "      <td>180,000</td>\n",
       "      <td>15,000</td>\n",
       "    </tr>\n",
       "    <tr>\n",
       "      <th>29</th>\n",
       "      <td>https://taling.me/Home/Search//Talent/Detail/1...</td>\n",
       "      <td>[6월반 모집중] 비전공자를 위한 왕초보 Java 수업!</td>\n",
       "      <td>0</td>\n",
       "      <td>180,000</td>\n",
       "      <td>15,000</td>\n",
       "    </tr>\n",
       "  </tbody>\n",
       "</table>\n",
       "</div>"
      ],
      "text/plain": [
       "                                                   링크  \\\n",
       "11  https://taling.me/Home/Search//Talent/Detail/2...   \n",
       "18  https://taling.me/Home/Search//Talent/Detail/3238   \n",
       "26  https://taling.me/Home/Search//Talent/Detail/8296   \n",
       "29  https://taling.me/Home/Search//Talent/Detail/1...   \n",
       "\n",
       "                                                  강좌명  등록수       가격  시간당 단가  \n",
       "11                  Java/Kotlin 언어로 Android 앱 개발자 되기!   28  240,000  20,000  \n",
       "18  진짜에게 배워봐!(티몬 개발자) 안드로이드, ios 어플리케이션 개발 [Java, ...  225  240,000  30,000  \n",
       "26                           [4월반 모집] 2주완성 Java 프로그래밍    5  180,000  15,000  \n",
       "29                    [6월반 모집중] 비전공자를 위한 왕초보 Java 수업!    0  180,000  15,000  "
      ]
     },
     "execution_count": 123,
     "metadata": {},
     "output_type": "execute_result"
    }
   ],
   "source": [
    "df[df['강좌명'].str.contains('Java')]"
   ]
  },
  {
   "cell_type": "code",
   "execution_count": 124,
   "metadata": {},
   "outputs": [
    {
     "data": {
      "text/html": [
       "<div>\n",
       "<style scoped>\n",
       "    .dataframe tbody tr th:only-of-type {\n",
       "        vertical-align: middle;\n",
       "    }\n",
       "\n",
       "    .dataframe tbody tr th {\n",
       "        vertical-align: top;\n",
       "    }\n",
       "\n",
       "    .dataframe thead th {\n",
       "        text-align: right;\n",
       "    }\n",
       "</style>\n",
       "<table border=\"1\" class=\"dataframe\">\n",
       "  <thead>\n",
       "    <tr style=\"text-align: right;\">\n",
       "      <th></th>\n",
       "      <th>링크</th>\n",
       "      <th>강좌명</th>\n",
       "      <th>등록수</th>\n",
       "      <th>가격</th>\n",
       "      <th>시간당 단가</th>\n",
       "    </tr>\n",
       "  </thead>\n",
       "  <tbody>\n",
       "    <tr>\n",
       "      <th>5</th>\n",
       "      <td>https://taling.me/Home/Search//Talent/Detail/3495</td>\n",
       "      <td>기린반 - 세상제일 쉬운 JAVA 수업</td>\n",
       "      <td>198</td>\n",
       "      <td>200,000</td>\n",
       "      <td>20,000</td>\n",
       "    </tr>\n",
       "    <tr>\n",
       "      <th>21</th>\n",
       "      <td>https://taling.me/Home/Search//Talent/Detail/1140</td>\n",
       "      <td>JAVA 기초 프로그래밍</td>\n",
       "      <td>17</td>\n",
       "      <td>160,000</td>\n",
       "      <td>20,000</td>\n",
       "    </tr>\n",
       "    <tr>\n",
       "      <th>22</th>\n",
       "      <td>https://taling.me/Home/Search//Talent/Detail/2443</td>\n",
       "      <td>비전공자도 앱으로 돈벌 수 있다!!(JAVA,Android)</td>\n",
       "      <td>496</td>\n",
       "      <td>240,000</td>\n",
       "      <td>20,000</td>\n",
       "    </tr>\n",
       "  </tbody>\n",
       "</table>\n",
       "</div>"
      ],
      "text/plain": [
       "                                                   링크  \\\n",
       "5   https://taling.me/Home/Search//Talent/Detail/3495   \n",
       "21  https://taling.me/Home/Search//Talent/Detail/1140   \n",
       "22  https://taling.me/Home/Search//Talent/Detail/2443   \n",
       "\n",
       "                                  강좌명  등록수       가격  시간당 단가  \n",
       "5               기린반 - 세상제일 쉬운 JAVA 수업  198  200,000  20,000  \n",
       "21                      JAVA 기초 프로그래밍   17  160,000  20,000  \n",
       "22  비전공자도 앱으로 돈벌 수 있다!!(JAVA,Android)  496  240,000  20,000  "
      ]
     },
     "execution_count": 124,
     "metadata": {},
     "output_type": "execute_result"
    }
   ],
   "source": [
    "df[df['강좌명'].str.contains('JAVA')]"
   ]
  },
  {
   "cell_type": "code",
   "execution_count": null,
   "metadata": {},
   "outputs": [],
   "source": [
    "df.to_csv"
   ]
  }
 ],
 "metadata": {
  "kernelspec": {
   "display_name": "Python 3",
   "language": "python",
   "name": "python3"
  },
  "language_info": {
   "codemirror_mode": {
    "name": "ipython",
    "version": 3
   },
   "file_extension": ".py",
   "mimetype": "text/x-python",
   "name": "python",
   "nbconvert_exporter": "python",
   "pygments_lexer": "ipython3",
   "version": "3.7.7"
  }
 },
 "nbformat": 4,
 "nbformat_minor": 4
}
