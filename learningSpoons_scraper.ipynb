{
 "cells": [
  {
   "cell_type": "code",
   "execution_count": null,
   "metadata": {},
   "outputs": [],
   "source": [
    "import pandas as pd\n",
    "from bs4 import BeautifulSoup\n",
    "import requests"
   ]
  },
  {
   "cell_type": "code",
   "execution_count": null,
   "metadata": {},
   "outputs": [],
   "source": [
    "res = requests.get('https://online.learningspoons.com')\n",
    "html = res.text\n",
    "soup = BeautifulSoup(html, 'lxml')"
   ]
  },
  {
   "cell_type": "code",
   "execution_count": null,
   "metadata": {},
   "outputs": [],
   "source": [
    "links = soup.select('.bb-cover-list-item .bb-course-cover > a')"
   ]
  },
  {
   "cell_type": "code",
   "execution_count": null,
   "metadata": {},
   "outputs": [],
   "source": [
    "links = [x['href'] for x in links if x.select_one('.ld-status').text != '무료']"
   ]
  },
  {
   "cell_type": "code",
   "execution_count": null,
   "metadata": {},
   "outputs": [],
   "source": [
    "titles = []\n",
    "counts = []\n",
    "prices = []\n",
    "count = 0\n",
    "for link in links:\n",
    "    count += 1\n",
    "    #상품페이지로 이동\n",
    "    res = requests.get(link)\n",
    "    html = res.text\n",
    "    soup = BeautifulSoup(html, 'lxml')\n",
    "    titles.append(soup.select_one('h1').text)\n",
    "    if soup.select_one('.members .members-count-g') != None:\n",
    "        counts.append(soup.select_one('.members .members-count-g').text[1:].strip())\n",
    "    else:\n",
    "        counts.append(0)\n",
    "    print('상품 정보를 수집합니다.') \n",
    "    #결제페이지로 이동\n",
    "    if soup.select_one('.btn-join') != None:\n",
    "        price_link = soup.select_one('.btn-join')['href']\n",
    "    else:\n",
    "        prices.append('기업전용')\n",
    "        print('가격 정보가 없습니다. 다음 강의를 조회합니다.')\n",
    "        continue\n",
    "    res = requests.get(price_link)\n",
    "    html = res.text\n",
    "    soup = BeautifulSoup(html, 'lxml')\n",
    "    prices.append(soup.select_one('bdi').text[1:])\n",
    "    print('가격 정보를 수집합니다.')\n",
    "    print('완료 | 상품명 : \"{}\", 진행률 : {}/{}'.format(titles[count-1],count,len(links)))"
   ]
  },
  {
   "cell_type": "code",
   "execution_count": null,
   "metadata": {},
   "outputs": [],
   "source": [
    "df = pd.DataFrame({'강의명':titles,'등록수':counts,'가격':prices})"
   ]
  },
  {
   "cell_type": "code",
   "execution_count": null,
   "metadata": {},
   "outputs": [],
   "source": [
    "len(df)"
   ]
  },
  {
   "cell_type": "code",
   "execution_count": null,
   "metadata": {},
   "outputs": [],
   "source": [
    "len(df.drop_duplicates())"
   ]
  },
  {
   "cell_type": "code",
   "execution_count": null,
   "metadata": {},
   "outputs": [],
   "source": [
    "df = df.drop_duplicates()"
   ]
  },
  {
   "cell_type": "code",
   "execution_count": null,
   "metadata": {},
   "outputs": [],
   "source": [
    "df.to_csv('./LearningSpoons_Online.csv')"
   ]
  },
  {
   "cell_type": "code",
   "execution_count": null,
   "metadata": {},
   "outputs": [],
   "source": [
    "html= res.text"
   ]
  },
  {
   "cell_type": "code",
   "execution_count": null,
   "metadata": {},
   "outputs": [],
   "source": [
    "soup = BeautifulSoup(html,'lxml')"
   ]
  },
  {
   "cell_type": "code",
   "execution_count": null,
   "metadata": {},
   "outputs": [],
   "source": [
    "soup.select_one('.btn-join')['href']"
   ]
  },
  {
   "cell_type": "code",
   "execution_count": null,
   "metadata": {},
   "outputs": [],
   "source": []
  }
 ],
 "metadata": {
  "kernelspec": {
   "display_name": "Python 3",
   "language": "python",
   "name": "python3"
  },
  "language_info": {
   "codemirror_mode": {
    "name": "ipython",
    "version": 3
   },
   "file_extension": ".py",
   "mimetype": "text/x-python",
   "name": "python",
   "nbconvert_exporter": "python",
   "pygments_lexer": "ipython3",
   "version": "3.7.7"
  }
 },
 "nbformat": 4,
 "nbformat_minor": 4
}
